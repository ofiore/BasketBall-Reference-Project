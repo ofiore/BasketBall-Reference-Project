{
 "cells": [
  {
   "attachments": {},
   "cell_type": "markdown",
   "metadata": {},
   "source": [
    "Web Scraping"
   ]
  },
  {
   "cell_type": "code",
   "execution_count": null,
   "metadata": {},
   "outputs": [],
   "source": [
    "teams = [\"ATL\", \"BOS\", \"NJN\", \"CHA\", \"CHI\", \"CLE\", \"DAL\", \"DEN\", \"DET\", \"GSW\", \"HOU\", \"IND\", \"LAC\", \"LAL\", \"MEM\", \"MIA\", \"MIL\", \"MIN\", \"NOP\", \"NYK\", \"OKC\", \"ORL\", \"PHI\", \"PHX\", \"POR\",  \"SAC\", \"SAS\", \"TOR\", \"UTA\", \"WAS\"] #Currently ATL is missing as that was added above\n",
    "#teams = [\"ATL\", \"BOS\", \"NJN\", \"CHA\", \"CHI\", \"CLE\",\"DAL\", \"DEN\", \"DET\", \"GSW\", \"HOU\"]\n",
    "#teams = [\"ATL\", \"BOS\", \"NJN\"]\n",
    "df = pd.DataFrame()\n",
    "for team in teams:\n",
    "    url = \"https://www.basketball-reference.com/teams/\" + team + \"/\"\n",
    "    html = requests.get(url)\n",
    "    soup = bs(html.content)\n",
    "    specifier = \"#\" + team + \" > tbody\"\n",
    "    body = soup.select(specifier)\n",
    "    rows = body[0].select('tr')\n",
    "    team_data = []\n",
    "    data = defaultdict(list)\n",
    "    cols = ['Lg','Team','W','L','W/L%','Finish','SRS','Pace','Rel Pace','ORtg','Rel ORtg','DRtg','Rel DRtg','Playoffs','Coaches','Top WS']\n",
    "\n",
    "    for row in rows:\n",
    "        data['season'].append(row.select('th')[0].text)\n",
    "        temp = row.select('td')\n",
    "        temp.pop(7)\n",
    "        temp.pop(13)\n",
    "        for i in range(len(cols)):\n",
    "            data[cols[i]].append(temp[i].text)\n",
    "    team_data = pd.DataFrame(data)\n",
    "    df = pd.concat([df, team_data])\n",
    "print(df.head(5))\n",
    "print(df.tail(5))\n",
    "df.to_csv(r\"C:\\Users\\ofior\\Documents\\4185\", sep = \"\\t\", encoding = \"utf-8\")"
   ]
  },
  {
   "attachments": {},
   "cell_type": "markdown",
   "metadata": {},
   "source": []
  }
 ],
 "metadata": {
  "kernelspec": {
   "display_name": "Python 3",
   "language": "python",
   "name": "python3"
  },
  "language_info": {
   "name": "python",
   "version": "3.10.8 (tags/v3.10.8:aaaf517, Oct 11 2022, 16:50:30) [MSC v.1933 64 bit (AMD64)]"
  },
  "orig_nbformat": 4,
  "vscode": {
   "interpreter": {
    "hash": "ace98e09e49a77770b7c362b5ab7546591896755eb0608e1a6dd9677c56c4327"
   }
  }
 },
 "nbformat": 4,
 "nbformat_minor": 2
}
